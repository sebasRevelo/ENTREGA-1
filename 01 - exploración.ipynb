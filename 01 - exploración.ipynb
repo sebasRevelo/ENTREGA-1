{
  "nbformat": 4,
  "nbformat_minor": 0,
  "metadata": {
    "colab": {
      "provenance": []
    },
    "kernelspec": {
      "name": "python3",
      "display_name": "Python 3"
    },
    "language_info": {
      "name": "python"
    }
  },
  "cells": [
    {
      "cell_type": "code",
      "source": [
        "import pandas as pd\n",
        "import os\n",
        "import numpy as np\n",
        "import matplotlib.pyplot as plt\n",
        "import seaborn as sns\n",
        "\n",
        "os.environ['KAGGLE_CONFIG_DIR']=\".\"\n",
        "\n",
        "!kaggle competitions download -c udea-ai-4-eng-20251-pruebas-saber-pro-colombia\n",
        "!chmod 600 ~/.kaggle/kaggle.json\n",
        "!unzip udea-ai-4-eng-20251-pruebas-saber-pro-colombia.zip"
      ],
      "metadata": {
        "id": "LsxnPgYn3G6g"
      },
      "execution_count": null,
      "outputs": []
    },
    {
      "cell_type": "code",
      "source": [
        "df = pd.read_csv(\"train.csv\")"
      ],
      "metadata": {
        "id": "JHv8sEtB7JOw"
      },
      "execution_count": 2,
      "outputs": []
    },
    {
      "cell_type": "code",
      "source": [
        "df = df.loc[:, ~df.columns.duplicated()]\n",
        "print(\"Columnas después de eliminar duplicadas:\", df.columns.tolist())"
      ],
      "metadata": {
        "id": "mc42muofeLIi"
      },
      "execution_count": null,
      "outputs": []
    },
    {
      "cell_type": "code",
      "source": [
        "print(\"Tamaño del dataset:\", df.shape)\n",
        "df.head()\n",
        "\n",
        "print(\"\\nValores nulos por columna:\")\n",
        "print(df.isnull().sum())"
      ],
      "metadata": {
        "id": "dqqFmFNXeK3u"
      },
      "execution_count": null,
      "outputs": []
    },
    {
      "cell_type": "code",
      "source": [
        "df.describe(include='all')"
      ],
      "metadata": {
        "id": "umyAOTroeyCS"
      },
      "execution_count": null,
      "outputs": []
    },
    {
      "cell_type": "code",
      "source": [
        "# Estrato de vivienda vs rendimiento\n",
        "plt.figure(figsize=(8,5))\n",
        "sns.boxplot(x='FAMI_ESTRATOVIVIENDA', y='RENDIMIENTO_GLOBAL', data=df)\n",
        "plt.title(\"Rendimiento por estrato de vivienda\")\n",
        "plt.xlabel(\"Estrato\")\n",
        "plt.ylabel(\"Rendimiento Global\")\n",
        "plt.tight_layout()\n",
        "plt.show()"
      ],
      "metadata": {
        "id": "UpdR5oXrgu8i"
      },
      "execution_count": null,
      "outputs": []
    },
    {
      "cell_type": "code",
      "source": [
        "# ¿Tiene computador? vs rendimiento\n",
        "plt.figure(figsize=(6,4))\n",
        "sns.boxplot(x='FAMI_TIENECOMPUTADOR', y='RENDIMIENTO_GLOBAL', data=df)\n",
        "plt.title(\"Rendimiento según si tiene computador\")\n",
        "plt.xlabel(\"¿Tiene computador?\")\n",
        "plt.ylabel(\"Rendimiento Global\")\n",
        "plt.tight_layout()\n",
        "plt.show()"
      ],
      "metadata": {
        "id": "dibxhnOrg2HP"
      },
      "execution_count": null,
      "outputs": []
    },
    {
      "cell_type": "code",
      "source": [
        "# Internet en casa vs rendimiento\n",
        "plt.figure(figsize=(6,4))\n",
        "sns.boxplot(x='FAMI_TIENEINTERNET', y='RENDIMIENTO_GLOBAL', data=df)\n",
        "plt.title(\"Rendimiento según si tiene internet\")\n",
        "plt.xlabel(\"¿Tiene internet?\")\n",
        "plt.ylabel(\"Rendimiento Global\")\n",
        "plt.tight_layout()\n",
        "plt.show()"
      ],
      "metadata": {
        "id": "oENbhsRGg8w-"
      },
      "execution_count": null,
      "outputs": []
    },
    {
      "cell_type": "code",
      "source": [
        "top_programs = df['ESTU_PRGM_ACADEMICO'].value_counts().nlargest(10)\n",
        "plt.figure(figsize=(10,5))\n",
        "sns.barplot(y=top_programs.index, x=top_programs.values, palette='viridis')\n",
        "plt.title(\"Top 10 programas académicos con más estudiantes\")\n",
        "plt.xlabel(\"Cantidad\")\n",
        "plt.ylabel(\"Programa académico\")\n",
        "plt.tight_layout()\n",
        "plt.show()"
      ],
      "metadata": {
        "id": "i0rZXb0Oh3Vr"
      },
      "execution_count": null,
      "outputs": []
    },
    {
      "cell_type": "code",
      "source": [
        "plt.figure(figsize=(7,4))\n",
        "sns.countplot(x='FAMI_ESTRATOVIVIENDA', data=df, palette='pastel')\n",
        "plt.title(\"Distribución por Estrato Socioeconómico\")\n",
        "plt.xlabel(\"Estrato de Vivienda\")\n",
        "plt.ylabel(\"Cantidad de Estudiantes\")\n",
        "plt.tight_layout()\n",
        "plt.show()"
      ],
      "metadata": {
        "id": "aeEBPhyslWIM"
      },
      "execution_count": null,
      "outputs": []
    },
    {
      "cell_type": "code",
      "source": [
        "## Barplot para mostrar las 10 localidades con más estudiantes registrados\n",
        "top_localidades = df['ESTU_PRGM_DEPARTAMENTO'].value_counts().nlargest(10)\n",
        "plt.figure(figsize=(10,5))\n",
        "sns.barplot(y=top_localidades.index, x=top_localidades.values, palette='viridis')\n",
        "plt.title(\"Top 10 departamentos con más estudiantes\")\n",
        "plt.xlabel(\"Cantidad de Estudiantes\")\n",
        "plt.ylabel(\"Departamento\")\n",
        "plt.tight_layout()\n",
        "plt.show()"
      ],
      "metadata": {
        "id": "fOcl3QlpmLJN"
      },
      "execution_count": null,
      "outputs": []
    }
  ]
}